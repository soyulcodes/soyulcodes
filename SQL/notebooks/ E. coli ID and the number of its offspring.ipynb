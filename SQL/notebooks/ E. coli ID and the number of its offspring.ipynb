{
 "cells": [
  {
   "cell_type": "markdown",
   "id": "0ba33376",
   "metadata": {},
   "source": [
    "[Problem Statement] Source: https://school.programmers.co.kr/learn/courses/30/lessons/299305\n",
    "\n",
    "E. coli individuals undergo differentiation at regular intervals. The individual that initiates differentiation is called the parent individual, while the differentiated individual that results from this process is referred to as the offspring individual.\n",
    "The ECOLI_DATA table contains information on E. coli individuals cultured in the laboratory. The structure of the ECOLI_DATA table is as follows: \n",
    "![My Image](/Users/celine/my_project/soyulcodes/SQL/images/ecoli_data_table.png)\n",
    "\n",
    "\t•\tThe Parent_ID of the first Ecoli is NULL. \n",
    "\t•\tID: The ID of the E. coli individual\n",
    "\t•\tPARENT_ID: The ID of the parent individual\n",
    "\t•\tSIZE_OF_COLONY: The size of the colony\n",
    "\t•\tDIFFERENTIATION_DATE: The date of differentiation\n",
    "\t•\tGENOTYPE: The genotype of the individual\n",
    "\t•\tThe PARENT_ID of the initial E. coli individual is NULL.\n",
    "\n",
    "\n",
    "\n",
    "[Task]\n",
    "Write an SQL query to output the ID of each E. coli individual (ID) and the number of offspring (CHILD_COUNT). If an individual has no offspring, the number of offspring should be displayed as 0. The result should be sorted in ascending order by ID.\n",
    "\n",
    "For example, if the ECOLI_DATA table is as follows:\n",
    "\n",
    "![My Image](/Users/celine/my_project/soyulcodes/SQL/images/ecoli_data_table1.png)\n",
    "\n",
    "The offspring of the entity with ID 1 is ID 3 (1 offspring), the offspring of the entity with ID 2 are IDs 4 and 5 (2 offspring), and the offspring of the entity with ID 4 is ID 6 (1 offspring). The remaining entities have no offspring. Therefore, when sorted in ascending order by ID, the result should be as follows.\n",
    "\n",
    "![My Image](/Users/celine/my_project/soyulcodes/SQL/images/ecoli_data_table2.png)"
   ]
  },
  {
   "cell_type": "markdown",
   "id": "98630b8e",
   "metadata": {},
   "source": [
    "The codes are to practice JOIN function.\n",
    "\n",
    "![My Image](/Users/celine/my_project/soyulcodes/SQL/images/table_join.png)\n",
    "\n",
    "* If \"WHERE X IS NULL\" is not written, we fill unmached parts with NULL. \n"
   ]
  },
  {
   "cell_type": "code",
   "execution_count": null,
   "id": "5cde8ffd",
   "metadata": {},
   "outputs": [],
   "source": [
    "SELECT a.ID, COUNT(b.PARENT_ID) as CHILD_COUNT\n",
    "FROM ECOLI_DATA a \n",
    "LEFT JOIN ECOLI_DATA b\n",
    "ON a.ID = b.parent_id\n",
    "GROUP BY 1 ##Delete overlapping data\n",
    "ORDER BY 1 "
   ]
  }
 ],
 "metadata": {
  "kernelspec": {
   "display_name": "myenv",
   "language": "python",
   "name": "python3"
  },
  "language_info": {
   "name": "python",
   "version": "3.10.16"
  }
 },
 "nbformat": 4,
 "nbformat_minor": 5
}
