{
 "cells": [
  {
   "cell_type": "markdown",
   "id": "c9c80f57",
   "metadata": {},
   "source": [
    "[Problem Statement] Source: https://school.programmers.co.kr/learn/courses/30/lessons/301646\n",
    "\n",
    "E. coli individuals undergo differentiation at regular intervals. The individual that initiates differentiation is called the parent individual, while the differentiated individual that results from this process is referred to as the offspring individual.\n",
    "The ECOLI_DATA table contains information on E. coli individuals cultured in the laboratory. The structure of the ECOLI_DATA table is as follows: \n",
    "![My Image](/Users/celine/my_project/soyulcodes/SQL/images/ecoli_data_table.png)\n",
    "\n",
    "\n",
    "\t•\tThe Parent_ID of the first Ecoli is NULL. \n",
    "\t•\tID: The ID of the E. coli individual\n",
    "\t•\tPARENT_ID: The ID of the parent individual\n",
    "\t•\tSIZE_OF_COLONY: The size of the colony\n",
    "\t•\tDIFFERENTIATION_DATE: The date of differentiation\n",
    "\t•\tGENOTYPE: The genotype of the individual\n",
    "\t•\tThe PARENT_ID of the initial E. coli individual is NULL."
   ]
  },
  {
   "cell_type": "markdown",
   "id": "e24ea969",
   "metadata": {},
   "source": [
    "[TASK] Write an SQL statement to output the count of E. coli individuals that do not possess trait 2 but possess either trait 1 or trait 3 or both. \n",
    "\n",
    "Example:\n",
    "If the ECOLI_DATA table is as follows:\n",
    "![My Image](/Users/celine/my_project/soyulcodes/SQL/images/ecoli_data_count_ecoli_with_specific_traits1.png)\n",
    "\n",
    "The genotype of each E. coli individual expressed in binary is as follows:\n",
    "\t•\tID 1: 1000₂\n",
    "\t•\tID 2: 1111₂\n",
    "\t•\tID 3: 1₂\n",
    "\t•\tID 4: 1101₂\n",
    "\n",
    "The traits possessed by each E. coli individual are as follows:\n",
    "\t•\tID 1: 4\n",
    "\t•\tID 2: 1, 2, 3, 4\n",
    "\t•\tID 3: 1\n",
    "\t•\tID 4: 1, 3, 4\n",
    "\n",
    "Hence, opting out E.coli individuals that do not possess trait 2 are ID 1, ID 3, and ID 4. Amongst them, the individauls that possess either trait 1 or trait 3 are ID 3 and ID 4. \n",
    "\n",
    "Thus, the result should be as follows. \n",
    "\n",
    "![My Image](/Users/celine/my_project/soyulcodes/SQL/images/ecoli_data_count_ecoli_with_specific_traits2.png)"
   ]
  },
  {
   "cell_type": "markdown",
   "id": "9d5a0ce4",
   "metadata": {},
   "source": [
    "[Explanation]\n",
    "Key point: The n-th trait means converting the GENOTYPE column to binary and referring to the n-th position from the right.\n",
    "\n",
    "To convert the genotype to binary, I used the BIN() function.\n",
    "\n",
    "To identify the n-th trait from the binary result, I used the SUBSTRING() and LENGTH() functions.\n"
   ]
  },
  {
   "cell_type": "code",
   "execution_count": null,
   "id": "7a1b42ff",
   "metadata": {},
   "outputs": [
    {
     "ename": "SyntaxError",
     "evalue": "leading zeros in decimal integer literals are not permitted; use an 0o prefix for octal integers (2488843028.py, line 5)",
     "output_type": "error",
     "traceback": [
      "\u001b[0;36m  Cell \u001b[0;32mIn[1], line 5\u001b[0;36m\u001b[0m\n\u001b[0;31m    BIN(GENOTYPE) = 01 OR\u001b[0m\n\u001b[0m                    ^\u001b[0m\n\u001b[0;31mSyntaxError\u001b[0m\u001b[0;31m:\u001b[0m leading zeros in decimal integer literals are not permitted; use an 0o prefix for octal integers\n"
     ]
    }
   ],
   "source": [
    "SELECT COUNT(*) AS COUNT\n",
    "FROM ECOLI_DATA\n",
    "WHERE \n",
    "    #Does not possess #2 trait (2^1=0)\n",
    "    #If we were to check whether e.coli individual have #2 trait, then it should be (GENOTYPE & 2) = 2.\n",
    "    (GENOTYPE & 2) = 0\n",
    "    AND\n",
    "    #Does possess #1 or #3 trait, or both. \n",
    "    #It's \"4\" here (GENOTYPE & 4) = 4) because we ned to write down the bit mask. (2^n-1, where n is nth placed number)\n",
    "    ((GENOTYPE & 1) = 1 OR (GENOTYPE & 4) = 4);"
   ]
  }
 ],
 "metadata": {
  "kernelspec": {
   "display_name": "myenv",
   "language": "python",
   "name": "python3"
  },
  "language_info": {
   "codemirror_mode": {
    "name": "ipython",
    "version": 3
   },
   "file_extension": ".py",
   "mimetype": "text/x-python",
   "name": "python",
   "nbconvert_exporter": "python",
   "pygments_lexer": "ipython3",
   "version": "3.10.16"
  }
 },
 "nbformat": 4,
 "nbformat_minor": 5
}
